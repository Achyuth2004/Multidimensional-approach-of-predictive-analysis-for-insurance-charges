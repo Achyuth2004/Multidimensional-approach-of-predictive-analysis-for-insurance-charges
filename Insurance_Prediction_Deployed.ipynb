{
  "nbformat": 4,
  "nbformat_minor": 0,
  "metadata": {
    "colab": {
      "provenance": []
    },
    "kernelspec": {
      "name": "python3",
      "display_name": "Python 3"
    },
    "language_info": {
      "name": "python"
    }
  },
  "cells": [
    {
      "cell_type": "code",
      "source": [
        "%%writefile Insurance_Prediction_app.py\n",
        "\n",
        "import streamlit as st\n",
        "import pandas as pd\n",
        "import numpy as np\n",
        "import matplotlib.pyplot as plt\n",
        "import seaborn as sns\n",
        "import plotly.graph_objects as go\n",
        "from sklearn.model_selection import train_test_split\n",
        "from sklearn.linear_model import LinearRegression\n",
        "from sklearn.metrics import mean_squared_error\n",
        "from sklearn.preprocessing import LabelEncoder\n",
        "from sklearn.impute import SimpleImputer\n",
        "\n",
        "# Title of the app\n",
        "st.title(\"Insurance Prediction App Using Linear Regression\")\n",
        "\n",
        "# Uploading file option\n",
        "uploaded_file = st.file_uploader(\"Please, upload your CSV file\", type='csv')\n",
        "\n",
        "# Load the dataset\n",
        "if uploaded_file is not None:\n",
        "    df = pd.read_csv(uploaded_file)\n",
        "    st.title(\"Data Preview\")\n",
        "    st.dataframe(df.head())\n",
        "\n",
        "    st.title(\"Data Info\")\n",
        "    buffer = []\n",
        "    df.info(buf=buffer)\n",
        "    info_str = '\\n'.join(buffer)\n",
        "    st.text(info_str)\n",
        "\n",
        "    st.title('Missing Values')\n",
        "    st.write(df.isnull().sum())\n",
        "\n",
        "    # Handling missing values for numerical & categorical columns\n",
        "    num_cols = df.select_dtypes(include=['float64', 'int64']).columns\n",
        "    cat_cols = df.select_dtypes(include=['object']).columns\n",
        "\n",
        "    # Imputing the numerical values\n",
        "    num_imputer = SimpleImputer(strategy=\"mean\")\n",
        "    df[num_cols] = num_imputer.fit_transform(df[num_cols])\n",
        "\n",
        "    # Imputing the categorical values\n",
        "    col_imputer = SimpleImputer(strategy=\"most_frequent\")\n",
        "    df[cat_cols] = col_imputer.fit_transform(df[cat_cols])\n",
        "\n",
        "    # Label encoding categorical values\n",
        "    le_smoker = LabelEncoder()\n",
        "    df['smoker'] = le_smoker.fit_transform(df['smoker'])\n",
        "    le_region = LabelEncoder()\n",
        "    df['region'] = le_region.fit_transform(df['region'])\n",
        "\n",
        "    # Selecting the relevant features and target variable\n",
        "    x = df[['age', 'sex', 'bmi', 'children', 'smoker', 'region']]\n",
        "    y = df['charges']\n",
        "\n",
        "    # Splitting the dataset into training and testing sets\n",
        "    x_train, x_test, y_train, y_test = train_test_split(x, y, test_size=0.2, random_state=42)\n",
        "\n",
        "    # Creating the model\n",
        "    model = LinearRegression()\n",
        "    model.fit(x_train, y_train)\n",
        "\n",
        "    # Prediction on the test set\n",
        "    y_pred = model.predict(x_test)\n",
        "    mse = mean_squared_error(y_test, y_pred)\n",
        "    st.write(f\"Mean Squared Error: {mse:.2f}\")\n",
        "\n",
        "    # User input for insurance charges\n",
        "    st.header(\"Predict Insurance Charges\")\n",
        "\n",
        "    # User inputs\n",
        "    age = st.number_input('Age', min_value=2, max_value=100, value=25)\n",
        "    bmi = st.number_input('BMI', min_value=10, max_value=50, value=25)\n",
        "    children = st.number_input('Children', min_value=0, max_value=5, value=0)\n",
        "    smoker = st.selectbox('Smoker', ('Yes', 'No'))\n",
        "    region = st.selectbox('Region', ('Southwest', 'Southeast', 'Northwest', 'Northeast'))\n",
        "\n",
        "    # Encode user inputs\n",
        "    smoker_encoded = le_smoker.transform([smoker])[0]\n",
        "    if region in le_region.classes_:\n",
        "        region_encoded = le_region.transform([region])[0]\n",
        "    else:\n",
        "        st.error(f\"Region '{region}' not found in the label encoder classes.\")\n",
        "        region_encoded = None\n",
        "\n",
        "    if region_encoded is not None:\n",
        "        input_data = pd.DataFrame([[age, bmi, children, smoker_encoded, region_encoded]],\n",
        "                                  columns=['age', 'bmi', 'children', 'smoker', 'region'])\n",
        "        predicted = model.predict(input_data)\n",
        "        st.write(f\"Predicted Insurance Charges: ${predicted[0]:.2f}\")\n",
        "\n",
        "        # Radar chart visualization\n",
        "        st.header(\"Radar Chart for Input Comparison\")\n",
        "        input_stats = {\n",
        "            'Age': age / 100,  # Normalizing to 0-1 range\n",
        "            'BMI': bmi / 50,  # Normalizing to 0-1 range\n",
        "            'Children': children / 5,  # Normalizing to 0-1 range\n",
        "            'Smoker': smoker_encoded,  # Binary, no normalization needed\n",
        "            'Region': region_encoded / len(le_region.classes_)  # Normalizing based on total regions\n",
        "        }\n",
        "\n",
        "        categories = list(input_stats.keys())\n",
        "        values = list(input_stats.values())\n",
        "        values += values[:1]  # Repeat first value to close the radar chart\n",
        "\n",
        "        fig = go.Figure()\n",
        "        fig.add_trace(go.Scatterpolar(\n",
        "            r=values,\n",
        "            theta=categories + [categories[0]],\n",
        "            fill='toself',\n",
        "            name='User Input'\n",
        "        ))\n",
        "        fig.update_layout(\n",
        "            polar=dict(\n",
        "                radialaxis=dict(visible=True, range=[0, 1])\n",
        "            ),\n",
        "            showlegend=False\n",
        "        )\n",
        "        st.plotly_chart(fig)\n"
      ],
      "metadata": {
        "colab": {
          "base_uri": "https://localhost:8080/"
        },
        "id": "dbZbo0BwZSVT",
        "outputId": "70fb8ec9-f248-4306-d069-3266829f788c"
      },
      "execution_count": 13,
      "outputs": [
        {
          "output_type": "stream",
          "name": "stdout",
          "text": [
            "Overwriting Insurance_Prediction_app.py\n"
          ]
        }
      ]
    },
    {
      "cell_type": "code",
      "source": [
        "!streamlit run Insurance_Prediction_app.py & >/content/logs.text & curl ipv4.icanhazip.com"
      ],
      "metadata": {
        "colab": {
          "base_uri": "https://localhost:8080/"
        },
        "id": "8mlFRDuJr7DF",
        "outputId": "d84449f1-d6cc-4d03-e160-d47d329672f3"
      },
      "execution_count": 14,
      "outputs": [
        {
          "output_type": "stream",
          "name": "stdout",
          "text": [
            "34.148.119.250\n",
            "\n",
            "Collecting usage statistics. To deactivate, set browser.gatherUsageStats to false.\n",
            "\u001b[0m\n",
            "\u001b[0m\n",
            "\u001b[34m\u001b[1m  You can now view your Streamlit app in your browser.\u001b[0m\n",
            "\u001b[0m\n",
            "\u001b[34m  Local URL: \u001b[0m\u001b[1mhttp://localhost:8501\u001b[0m\n",
            "\u001b[34m  Network URL: \u001b[0m\u001b[1mhttp://172.28.0.12:8501\u001b[0m\n",
            "\u001b[34m  External URL: \u001b[0m\u001b[1mhttp://34.148.119.250:8501\u001b[0m\n",
            "\u001b[0m\n",
            "\u001b[34m  Stopping...\u001b[0m\n"
          ]
        }
      ]
    },
    {
      "cell_type": "code",
      "source": [
        "!npx localtunnel --port 8501"
      ],
      "metadata": {
        "colab": {
          "base_uri": "https://localhost:8080/"
        },
        "id": "2MZsybELsOlg",
        "outputId": "859101a4-a98c-4ee4-b4e6-f3a107568021"
      },
      "execution_count": 15,
      "outputs": [
        {
          "output_type": "stream",
          "name": "stdout",
          "text": [
            "your url is: https://wicked-squids-clap.loca.lt\n",
            "^C\n"
          ]
        }
      ]
    }
  ]
}